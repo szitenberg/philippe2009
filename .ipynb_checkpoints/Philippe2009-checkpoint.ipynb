{
 "cells": [
  {
   "cell_type": "code",
   "execution_count": 1,
   "metadata": {
    "collapsed": true
   },
   "outputs": [],
   "source": [
    "data_path = '../data/Philippe2009/UPDUNN_MB.nex'"
   ]
  },
  {
   "cell_type": "code",
   "execution_count": 1,
   "metadata": {
    "collapsed": true
   },
   "outputs": [],
   "source": [
    "def parse_philippe_mrbayes_partitions(mrbayes_nexus):\n",
    "    with open(mrbayes_nexus) as partfile:\n",
    "        lines = partfile.readlines()\n",
    "        parts = {}\n",
    "        for line in lines:\n",
    "            gene_names = []\n",
    "            ranges = []\n",
    "            if '[genes' in line:\n",
    "                gene_names = line.rstrip().split(':')[1].replace(']','').split(',')\n",
    "            if 'partition part = ' in line:\n",
    "                ranges = line.rstrip().split(':')[1].split(',')\n",
    "                ranges = [i.split('-') for i in ranges]\n",
    "            for j in range(len(gene_names)):\n",
    "                parts[gene_names[j]] = [int(ranges[j][0])-1,\n",
    "                                        int(ranges[j][1])]\n",
    "        return parts\n",
    "    \n",
    "\n",
    "def pj_from_nexus(phylip_filename, charsets ,output_dir, char_type,\n",
    "                            feature_type, project=False, pickle=False, git=False):\n",
    "    \n",
    "    \n",
    "    from reprophylo import Locus\n",
    "    from Bio import AlignIO\n",
    "    \n",
    "    alignment =  AlignIO.read(phylip_filename, 'nexus')\n",
    "    filenames = []\n",
    "    loci_list = []\n",
    "    for locus_name in charsets:\n",
    "        s = charsets[locus_name][0]\n",
    "        e = charsets[locus_name][1]\n",
    "        outname = \"%s/%s.fasta\"%(output_dir,locus_name)\n",
    "        AlignIO.write(alignment[:, s:e], outname, 'fasta')\n",
    "        filenames.append(outname)\n",
    "        loci_list.append(Locus(char_type, feature_type, locus_name, [locus_name]))\n",
    "    \n",
    "    if project:\n",
    "        from reprophylo import Project\n",
    "        pj = Project(loci_list, pickle=pickle, git=git)\n",
    "        i=1\n",
    "        for f in filenames:\n",
    "            locus_name = f.split('/')[-1].split('.')[0]\n",
    "            print '%i/%i reading %s'%(i,len(filenames), locus_name)\n",
    "            i += 1\n",
    "            pj.read_alignment(f, char_type, feature_type, locus_name)\n",
    "        return pj\n",
    "            \n",
    "    else:  \n",
    "        return filenames, loci_list"
   ]
  },
  {
   "cell_type": "code",
   "execution_count": null,
   "metadata": {
    "collapsed": true
   },
   "outputs": [],
   "source": []
  }
 ],
 "metadata": {
  "kernelspec": {
   "display_name": "Python 2",
   "language": "python",
   "name": "python2"
  },
  "language_info": {
   "codemirror_mode": {
    "name": "ipython",
    "version": 2
   },
   "file_extension": ".py",
   "mimetype": "text/x-python",
   "name": "python",
   "nbconvert_exporter": "python",
   "pygments_lexer": "ipython2",
   "version": "2.7.6"
  }
 },
 "nbformat": 4,
 "nbformat_minor": 0
}
